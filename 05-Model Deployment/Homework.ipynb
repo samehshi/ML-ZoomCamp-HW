{
 "cells": [
  {
   "cell_type": "markdown",
   "id": "b1bacd85",
   "metadata": {},
   "source": [
    "## Homework\n",
    "\n",
    "> Note: sometimes your answer doesn't match one of the options exactly. \n",
    "> That's fine. \n",
    "> Select the option that's closest to your solution.\n",
    "\n",
    "We recommend using python 3.12 or 3.13 in this homework.\n",
    "\n",
    "In this homework, we're going to continue working with the lead scoring dataset. You don't need the dataset: we will provide the model for you.\n",
    "\n",
    "\n",
    "## Question 1\n",
    "\n",
    "* Install `uv`\n",
    "* What's the version of uv you installed?\n",
    "* Use `--version` to find out\n",
    "\n"
   ]
  },
  {
   "cell_type": "code",
   "execution_count": 1,
   "id": "bb22f5d7",
   "metadata": {},
   "outputs": [
    {
     "name": "stdout",
     "output_type": "stream",
     "text": [
      "uv 0.9.4\n"
     ]
    }
   ],
   "source": [
    "!uv --version"
   ]
  },
  {
   "cell_type": "markdown",
   "id": "d5de10ca",
   "metadata": {},
   "source": [
    "\n",
    "## Initialize an empty uv project\n",
    "\n",
    "You should create an empty folder for homework\n",
    "and do it there. \n",
    "\n",
    "\n",
    "## Question 2\n",
    "\n",
    "* Use uv to install Scikit-Learn version 1.6.1 \n",
    "* What's the first hash for Scikit-Learn you get in the lock file?\n",
    "* Include the entire string starting with sha256:, don't include quotes"
   ]
  },
  {
   "cell_type": "markdown",
   "id": "79f0d100",
   "metadata": {},
   "source": [
    "---- \n",
    "#### the first hash for Scikit-Learn you get in the lock file?\n",
    "hash = \"sha256:b4fc2525eca2c69a59260f583c56a7557c6ccdf8deafdba6e060f94c1c59738e\"\n",
    "\n",
    "----"
   ]
  },
  {
   "cell_type": "markdown",
   "id": "c177b98a",
   "metadata": {},
   "source": [
    "\n",
    "## Models\n",
    "\n",
    "We have prepared a pipeline with a dictionary vectorizer and a model.\n",
    "\n",
    "It was trained (roughly) using this code:\n",
    "\n",
    "```python\n",
    "categorical = ['lead_source']\n",
    "numeric = ['number_of_courses_viewed', 'annual_income']\n",
    "\n",
    "df[categorical] = df[categorical].fillna('NA')\n",
    "df[numeric] = df[numeric].fillna(0)\n",
    "\n",
    "train_dict = df[categorical + numeric].to_dict(orient='records')\n",
    "\n",
    "pipeline = make_pipeline(\n",
    "    DictVectorizer(),\n",
    "    LogisticRegression(solver='liblinear')\n",
    ")\n",
    "\n",
    "pipeline.fit(train_dict, y_train)\n",
    "```\n",
    "\n",
    "> **Note**: You don't need to train the model. This code is just for your reference.\n",
    "\n",
    "And then saved with Pickle. Download it [here](https://github.com/DataTalksClub/machine-learning-zoomcamp/tree/master/cohorts/2025/05-deployment/pipeline_v1.bin).\n",
    "\n",
    "With `wget`:\n",
    "\n",
    "```bash\n",
    "wget https://github.com/DataTalksClub/machine-learning-zoomcamp/raw/refs/heads/master/cohorts/2025/05-deployment/pipeline_v1.bin\n",
    "```"
   ]
  },
  {
   "cell_type": "code",
   "execution_count": 2,
   "id": "3e6d4887",
   "metadata": {},
   "outputs": [],
   "source": [
    "!wget https://github.com/DataTalksClub/machine-learning-zoomcamp/raw/refs/heads/master/cohorts/2025/05-deployment/pipeline_v1.bin -o ./uv_project/pipeline_v1.bin\n"
   ]
  },
  {
   "cell_type": "markdown",
   "id": "e7c5cb23",
   "metadata": {},
   "source": [
    "## Question 3\n",
    "\n",
    "Let's use the model!\n",
    "\n",
    "* Write a script for loading the pipeline with pickle\n",
    "* Score this record:\n",
    "\n",
    "```json\n",
    "{\n",
    "    \"lead_source\": \"paid_ads\",\n",
    "    \"number_of_courses_viewed\": 2,\n",
    "    \"annual_income\": 79276.0\n",
    "}\n",
    "```\n",
    "\n",
    "\n"
   ]
  },
  {
   "cell_type": "code",
   "execution_count": 3,
   "id": "52f8b0f2",
   "metadata": {},
   "outputs": [
    {
     "name": "stderr",
     "output_type": "stream",
     "text": [
      "/opt/conda/envs/ml-zoomcamp/lib/python3.11/site-packages/sklearn/base.py:442: InconsistentVersionWarning: Trying to unpickle estimator DictVectorizer from version 1.6.1 when using version 1.7.2. This might lead to breaking code or invalid results. Use at your own risk. For more info please refer to:\n",
      "https://scikit-learn.org/stable/model_persistence.html#security-maintainability-limitations\n",
      "  warnings.warn(\n",
      "/opt/conda/envs/ml-zoomcamp/lib/python3.11/site-packages/sklearn/base.py:442: InconsistentVersionWarning: Trying to unpickle estimator LogisticRegression from version 1.6.1 when using version 1.7.2. This might lead to breaking code or invalid results. Use at your own risk. For more info please refer to:\n",
      "https://scikit-learn.org/stable/model_persistence.html#security-maintainability-limitations\n",
      "  warnings.warn(\n",
      "/opt/conda/envs/ml-zoomcamp/lib/python3.11/site-packages/sklearn/base.py:442: InconsistentVersionWarning: Trying to unpickle estimator Pipeline from version 1.6.1 when using version 1.7.2. This might lead to breaking code or invalid results. Use at your own risk. For more info please refer to:\n",
      "https://scikit-learn.org/stable/model_persistence.html#security-maintainability-limitations\n",
      "  warnings.warn(\n"
     ]
    },
    {
     "data": {
      "text/plain": [
       "(DictVectorizer(), LogisticRegression(solver='liblinear'))"
      ]
     },
     "execution_count": 3,
     "metadata": {},
     "output_type": "execute_result"
    }
   ],
   "source": [
    "import pickle\n",
    "\n",
    "model_file = './uv_project/pipeline_v1.bin'\n",
    "\n",
    "with open(model_file, 'rb') as f_in:\n",
    "    dv, model = pickle.load(f_in)\n",
    " \n",
    "dv, model"
   ]
  },
  {
   "cell_type": "code",
   "execution_count": 4,
   "id": "f7488b8c",
   "metadata": {},
   "outputs": [],
   "source": [
    "record = {\n",
    "    \"lead_source\": \"paid_ads\",\n",
    "    \"number_of_courses_viewed\": 2,\n",
    "    \"annual_income\": 79276.0\n",
    "}"
   ]
  },
  {
   "cell_type": "code",
   "execution_count": 8,
   "id": "7d7b452b",
   "metadata": {},
   "outputs": [
    {
     "name": "stdout",
     "output_type": "stream",
     "text": [
      "<Compressed Sparse Row sparse matrix of dtype 'float64'\n",
      "\twith 3 stored elements and shape (1, 8)>\n",
      "  Coords\tValues\n",
      "  (0, 0)\t79276.0\n",
      "  (0, 4)\t1.0\n",
      "  (0, 7)\t2.0\n"
     ]
    }
   ],
   "source": [
    "X = dv.transform([record])\n",
    "print(X)"
   ]
  },
  {
   "cell_type": "code",
   "execution_count": 11,
   "id": "25b1a069",
   "metadata": {},
   "outputs": [
    {
     "data": {
      "text/plain": [
       "array([0.53360727])"
      ]
     },
     "execution_count": 11,
     "metadata": {},
     "output_type": "execute_result"
    }
   ],
   "source": [
    "model.predict_proba(X)[:, 1]"
   ]
  },
  {
   "cell_type": "markdown",
   "id": "217cfa19",
   "metadata": {},
   "source": [
    "## Question 4\n",
    "\n",
    "Now let's serve this model as a web service\n",
    "\n",
    "* Install FastAPI\n",
    "* Write FastAPI code for serving the model\n",
    "* Now score this client using `requests`:\n",
    "\n",
    "```python\n",
    "url = \"YOUR_URL\"\n",
    "client = {\n",
    "    \"lead_source\": \"organic_search\",\n",
    "    \"number_of_courses_viewed\": 4,\n",
    "    \"annual_income\": 80304.0\n",
    "}\n",
    "requests.post(url, json=client).json()\n",
    "```\n"
   ]
  },
  {
   "cell_type": "code",
   "execution_count": 25,
   "id": "92c87b73",
   "metadata": {},
   "outputs": [
    {
     "name": "stdout",
     "output_type": "stream",
     "text": [
      "Running in Jupyter — start server with: !uvicorn app:app --host 0.0.0.0 --port 9696\n"
     ]
    },
    {
     "name": "stderr",
     "output_type": "stream",
     "text": [
      "/opt/conda/envs/ml-zoomcamp/lib/python3.11/site-packages/sklearn/base.py:442: InconsistentVersionWarning: Trying to unpickle estimator DictVectorizer from version 1.6.1 when using version 1.7.2. This might lead to breaking code or invalid results. Use at your own risk. For more info please refer to:\n",
      "https://scikit-learn.org/stable/model_persistence.html#security-maintainability-limitations\n",
      "  warnings.warn(\n",
      "/opt/conda/envs/ml-zoomcamp/lib/python3.11/site-packages/sklearn/base.py:442: InconsistentVersionWarning: Trying to unpickle estimator LogisticRegression from version 1.6.1 when using version 1.7.2. This might lead to breaking code or invalid results. Use at your own risk. For more info please refer to:\n",
      "https://scikit-learn.org/stable/model_persistence.html#security-maintainability-limitations\n",
      "  warnings.warn(\n",
      "/opt/conda/envs/ml-zoomcamp/lib/python3.11/site-packages/sklearn/base.py:442: InconsistentVersionWarning: Trying to unpickle estimator Pipeline from version 1.6.1 when using version 1.7.2. This might lead to breaking code or invalid results. Use at your own risk. For more info please refer to:\n",
      "https://scikit-learn.org/stable/model_persistence.html#security-maintainability-limitations\n",
      "  warnings.warn(\n"
     ]
    }
   ],
   "source": [
    "# fastapp.py \n",
    "\n",
    "import pickle\n",
    "from fastapi import FastAPI\n",
    "from pydantic import BaseModel\n",
    "import uvicorn\n",
    "import sys\n",
    "\n",
    "model_file = './uv_project/pipeline_v1.bin'\n",
    "# ✅ LOAD YOUR MODEL AND DICTVECTORIZER\n",
    "with open(model_file, 'rb') as f:\n",
    "    dv,model = pickle.load(f)\n",
    "\n",
    "\n",
    "\n",
    "class Lead(BaseModel):\n",
    "    lead_source: str\n",
    "    number_of_courses_viewed: int\n",
    "    annual_income: float\n",
    "\n",
    "app = FastAPI()\n",
    "\n",
    "@app.post(\"/predict\")\n",
    "def predict(client: Lead):\n",
    "    customer = client.dict()\n",
    "    X = dv.transform([customer])\n",
    "    y_pred = model.predict_proba(X)[0, 1]\n",
    "    churn = y_pred >= 0.5\n",
    "    return {\n",
    "        'churn_probability': float(y_pred),\n",
    "        'churn': bool(churn)\n",
    "    }\n",
    "\n",
    "if __name__ == \"__main__\":\n",
    "    if \"ipykernel\" in sys.modules:\n",
    "        print(\"Running in Jupyter — start server with: !uvicorn app:app --host 0.0.0.0 --port 9696\")\n",
    "    else:\n",
    "        uvicorn.run(app, host=\"0.0.0.0\", port=9696)"
   ]
  },
  {
   "cell_type": "code",
   "execution_count": 26,
   "id": "8b414a7e",
   "metadata": {},
   "outputs": [
    {
     "name": "stdout",
     "output_type": "stream",
     "text": [
      "{'churn_probability': 0.5340417283801275, 'churn': True}\n"
     ]
    }
   ],
   "source": [
    "#predict.py\n",
    "\n",
    "import requests\n",
    "\n",
    "url = \"http://localhost:9696/predict\"\n",
    "\n",
    "client = {\n",
    "    \"lead_source\": \"organic_search\",\n",
    "    \"number_of_courses_viewed\": 4,\n",
    "    \"annual_income\": 80304.0\n",
    "}\n",
    "\n",
    "response = requests.post(url, json=client)\n",
    "print(response.json())"
   ]
  },
  {
   "cell_type": "markdown",
   "id": "b9c8b960",
   "metadata": {},
   "source": [
    "## Docker\n",
    "\n",
    "Install [Docker](https://github.com/DataTalksClub/machine-learning-zoomcamp/blob/master/05-deployment/06-docker.md). \n",
    "We will use it for the next two questions.\n",
    "\n",
    "For these questions, we prepared a base image: `agrigorev/zoomcamp-model:2025`. \n",
    "You'll need to use it (see Question 5 for an example).\n",
    "\n",
    "This image is based on `3.13.5-slim-bookworm` and has\n",
    "a pipeline with logistic regression (a different one)\n",
    "as well a dictionary vectorizer inside. \n",
    "\n",
    "This is how the Dockerfile for this image looks like:\n",
    "\n",
    "```docker \n",
    "FROM python:3.13.5-slim-bookworm\n",
    "WORKDIR /code\n",
    "COPY pipeline_v2.bin .\n",
    "```\n",
    "\n",
    "We already built it and then pushed it to [`agrigorev/zoomcamp-model:2025`](https://hub.docker.com/r/agrigorev/zoomcamp-model).\n",
    "\n",
    "## Question 5\n",
    "\n",
    "Download the base image `agrigorev/zoomcamp-model:2025`. You can easily make it by using [docker pull](https://docs.docker.com/engine/reference/commandline/pull/) command.\n"
   ]
  },
  {
   "cell_type": "code",
   "execution_count": 1,
   "id": "98919261",
   "metadata": {},
   "outputs": [
    {
     "name": "stdout",
     "output_type": "stream",
     "text": [
      "2025: Pulling from agrigorev/zoomcamp-model\n",
      "\n",
      "\u001b[1B2667830b: Pulling fs layer \n",
      "\u001b[1B1082f6f0: Pulling fs layer \n",
      "\u001b[1Bf5177ae2: Pulling fs layer \n",
      "\u001b[1B357cf7a1: Pulling fs layer \n",
      "\u001b[1B2b9cc6ee: Pulling fs layer \n",
      "\u001b[1BDigest: sha256:14d79fde0bbf078eb18c99c2bd007205917b758ec11060b2994963a1e485c2ae[3A\u001b[2K\u001b[6A\u001b[2K\u001b[6A\u001b[2K\u001b[6A\u001b[2K\u001b[6A\u001b[2K\u001b[2A\u001b[2K\u001b[6A\u001b[2K\u001b[1A\u001b[2K\u001b[6A\u001b[2K\u001b[6A\u001b[2K\u001b[6A\u001b[2K\u001b[5A\u001b[2K\u001b[5A\u001b[2K\u001b[5A\u001b[2K\u001b[4A\u001b[2K\u001b[4A\u001b[2K\u001b[4A\u001b[2K\u001b[4A\u001b[2K\u001b[4A\u001b[2K\u001b[4A\u001b[2K\u001b[2A\u001b[2K\n",
      "Status: Downloaded newer image for agrigorev/zoomcamp-model:2025\n",
      "docker.io/agrigorev/zoomcamp-model:2025\n"
     ]
    }
   ],
   "source": [
    "!docker pull agrigorev/zoomcamp-model:2025"
   ]
  },
  {
   "cell_type": "code",
   "execution_count": 2,
   "id": "caa1007b",
   "metadata": {},
   "outputs": [
    {
     "name": "stdout",
     "output_type": "stream",
     "text": [
      "REPOSITORY                 TAG       IMAGE ID       CREATED        SIZE\n",
      "agrigorev/zoomcamp-model   2025      4a9ecc576ae9   9 hours ago    121MB\n",
      "hello-world                latest    1b44b5a3e06a   2 months ago   10.1kB\n"
     ]
    }
   ],
   "source": [
    "!docker images\n"
   ]
  },
  {
   "cell_type": "markdown",
   "id": "ff24aa90",
   "metadata": {},
   "source": [
    "\n",
    "## Dockerfile\n",
    "\n",
    "Now create your own `Dockerfile` based on the image we prepared.\n",
    "\n",
    "It should start like that:\n",
    "\n",
    "```docker\n",
    "FROM agrigorev/zoomcamp-model:2025\n",
    "# add your stuff here\n",
    "```\n",
    "\n",
    "Now complete it:\n",
    "\n",
    "* Install all the dependencies from pyproject.toml\n",
    "* Copy your FastAPI script\n",
    "* Run it with uvicorn \n",
    "\n",
    "After that, you can build your docker image.\n",
    "\n",
    "\n",
    "\n",
    "\n",
    "## Question 6\n",
    "\n",
    "Let's run your docker container!\n",
    "\n",
    "After running it, score this client once again:\n",
    "\n",
    "```python\n",
    "url = \"YOUR_URL\"\n",
    "client = {\n",
    "    \"lead_source\": \"organic_search\",\n",
    "    \"number_of_courses_viewed\": 4,\n",
    "    \"annual_income\": 80304.0\n",
    "}\n",
    "requests.post(url, json=client).json()\n",
    "```"
   ]
  },
  {
   "cell_type": "code",
   "execution_count": null,
   "id": "75e2aa45",
   "metadata": {},
   "outputs": [],
   "source": [
    "{'churn_probability': 0.5340417283801275, 'churn': True}"
   ]
  }
 ],
 "metadata": {
  "kernelspec": {
   "display_name": "ml-zoomcamp",
   "language": "python",
   "name": "python3"
  },
  "language_info": {
   "codemirror_mode": {
    "name": "ipython",
    "version": 3
   },
   "file_extension": ".py",
   "mimetype": "text/x-python",
   "name": "python",
   "nbconvert_exporter": "python",
   "pygments_lexer": "ipython3",
   "version": "3.11.13"
  }
 },
 "nbformat": 4,
 "nbformat_minor": 5
}
