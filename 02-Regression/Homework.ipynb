{
 "cells": [
  {
   "cell_type": "markdown",
   "id": "bc47f669",
   "metadata": {},
   "source": [
    "### Regression Homework by sameh shehata "
   ]
  },
  {
   "cell_type": "code",
   "execution_count": null,
   "id": "2bec1f49",
   "metadata": {},
   "outputs": [],
   "source": [
    "import pandas as pd\n",
    "import numpy as np\n",
    "\n",
    "import matplotlib.pyplot as plt\n",
    "import seaborn as sns\n",
    "\n",
    "%matplotlib inline"
   ]
  },
  {
   "cell_type": "markdown",
   "id": "cbb80761",
   "metadata": {},
   "source": [
    "### Data Preparation"
   ]
  },
  {
   "cell_type": "code",
   "execution_count": null,
   "id": "42db8218",
   "metadata": {},
   "outputs": [],
   "source": [
    "df = pd.read_csv('car_fuel_efficiency.csv')"
   ]
  },
  {
   "cell_type": "code",
   "execution_count": null,
   "id": "dae5f0cf",
   "metadata": {},
   "outputs": [],
   "source": [
    "df.columns = df.columns.str.lower().str.replace(' ', '_')"
   ]
  },
  {
   "cell_type": "code",
   "execution_count": null,
   "id": "b46c17eb",
   "metadata": {},
   "outputs": [],
   "source": [
    "df.head()"
   ]
  },
  {
   "cell_type": "code",
   "execution_count": null,
   "id": "3f2f1ab3",
   "metadata": {},
   "outputs": [],
   "source": [
    "strings = list(df.dtypes[df.dtypes == 'object'].index)\n",
    "strings"
   ]
  },
  {
   "cell_type": "code",
   "execution_count": null,
   "id": "bd6c74f6",
   "metadata": {},
   "outputs": [],
   "source": [
    "for col in strings:\n",
    "    df[col] = df[col].str.lower().str.replace(' ', '_')"
   ]
  },
  {
   "cell_type": "code",
   "execution_count": null,
   "id": "db9ff9cc",
   "metadata": {},
   "outputs": [],
   "source": [
    "df.dtypes"
   ]
  },
  {
   "cell_type": "markdown",
   "id": "a47ce5fc",
   "metadata": {},
   "source": [
    "### Question 1. Missing values\n",
    "\n"
   ]
  },
  {
   "cell_type": "code",
   "execution_count": null,
   "id": "6380364d",
   "metadata": {},
   "outputs": [],
   "source": [
    "df.isnull().sum()"
   ]
  },
  {
   "cell_type": "markdown",
   "id": "494593d9",
   "metadata": {},
   "source": [
    "### Question 2. Median for horse power\n"
   ]
  },
  {
   "cell_type": "code",
   "execution_count": null,
   "id": "ae7a964d",
   "metadata": {},
   "outputs": [],
   "source": [
    "df['horsepower'].median()"
   ]
  },
  {
   "cell_type": "code",
   "execution_count": null,
   "id": "7c0a6179",
   "metadata": {},
   "outputs": [],
   "source": []
  },
  {
   "cell_type": "markdown",
   "id": "134c6db2",
   "metadata": {},
   "source": [
    "### Question 3. Filling NAs\n",
    "\n",
    "\n",
    "\n",
    "### Prepare and split the dataset\n",
    "\n",
    "* Shuffle the dataset (the filtered one you created above), use seed `42`.\n",
    "* Split your data in train/val/test sets, with 60%/20%/20% distribution.\n",
    "\n",
    "Use the same code as in the lectures\n",
    "\n",
    "\n",
    "### Question 3\n",
    "\n",
    "* We need to deal with missing values for the column from Q1.\n",
    "* We have two options: fill it with 0 or with the mean of this variable.\n",
    "* Try both options. For each, train a linear regression model without regularization using the code from the lessons.\n",
    "* For computing the mean, use the training only!\n",
    "* Use the validation dataset to evaluate the models and compare the RMSE of each option.\n",
    "* Round the RMSE scores to 2 decimal digits using `round(score, 2)`\n",
    "* Which option gives better RMSE?\n",
    "\n",
    "Options:\n",
    "\n",
    "- With 0\n",
    "- With mean\n",
    "- Both are equally good\n"
   ]
  },
  {
   "cell_type": "code",
   "execution_count": null,
   "id": "60d4caa1",
   "metadata": {},
   "outputs": [],
   "source": [
    "n = len(df)\n",
    "\n",
    "n_val = int(n * 0.2)\n",
    "n_test = int(n * 0.2)\n",
    "n_train = n - n_val - n_test"
   ]
  },
  {
   "cell_type": "code",
   "execution_count": null,
   "id": "98d29767",
   "metadata": {},
   "outputs": [],
   "source": [
    "n"
   ]
  },
  {
   "cell_type": "code",
   "execution_count": null,
   "id": "74705f3e",
   "metadata": {},
   "outputs": [],
   "source": [
    "n_val, n_test, n_train"
   ]
  },
  {
   "cell_type": "code",
   "execution_count": null,
   "id": "3c92d680",
   "metadata": {},
   "outputs": [],
   "source": [
    "idx = np.arange(n)"
   ]
  },
  {
   "cell_type": "code",
   "execution_count": null,
   "id": "daba8575",
   "metadata": {},
   "outputs": [],
   "source": [
    "np.random.seed(42)\n",
    "np.random.shuffle(idx)"
   ]
  },
  {
   "cell_type": "code",
   "execution_count": null,
   "id": "91188bc0",
   "metadata": {},
   "outputs": [],
   "source": [
    "\n",
    "\n",
    "train_idx = idx[:n_train]\n",
    "val_idx = idx[n_train:n_train + n_val]\n",
    "test_idx = idx[n_train + n_val:]"
   ]
  },
  {
   "cell_type": "code",
   "execution_count": null,
   "id": "9c5d296a",
   "metadata": {},
   "outputs": [],
   "source": [
    "X = df.drop(['fuel_efficiency_mpg',\"origin\",\"fuel_type\",\"drivetrain\"], axis=1)\n",
    "y = df.fuel_efficiency_mpg.values"
   ]
  },
  {
   "cell_type": "code",
   "execution_count": null,
   "id": "193f8ba9",
   "metadata": {},
   "outputs": [],
   "source": [
    "X_train = X.iloc[train_idx].reset_index(drop=True)\n",
    "X_val = X.iloc[val_idx].reset_index(drop=True)\n",
    "X_test = X.iloc[test_idx].reset_index(drop=True)\n",
    "\n",
    "y_train = y[train_idx]\n",
    "y_val = y[val_idx]\n",
    "y_test = y[test_idx]\n",
    "\n",
    "# Option A: fill missing values with 0\n",
    "X_train_zero = X_train.fillna(0)\n",
    "X_val_zero = X_val.fillna(0)\n",
    "\n",
    "model_zero = LinearRegression()\n",
    "model_zero.fit(X_train_zero, y_train)\n",
    "y_pred_zero = model_zero.predict(X_val_zero)\n",
    "rmse_zero = float(np.sqrt(((y_val - y_pred_zero) ** 2).mean()))\n",
    "rmse_zero_round = round(rmse_zero, 2)\n",
    "\n",
    "# Option B: fill missing values with mean (computed from training set)\n",
    "train_mean = X_train.mean()\n",
    "X_train_mean = X_train.fillna(train_mean)\n",
    "X_val_mean = X_val.fillna(train_mean)\n",
    "\n",
    "model_mean = LinearRegression()\n",
    "model_mean.fit(X_train_mean, y_train)\n",
    "y_pred_mean = model_mean.predict(X_val_mean)\n",
    "rmse_mean = float(np.sqrt(((y_val - y_pred_mean) ** 2).mean()))\n",
    "rmse_mean_round = round(rmse_mean, 2)\n",
    "\n",
    "print(\"RMSE (fill 0):\", rmse_zero_round)\n",
    "print(\"RMSE (fill mean):\", rmse_mean_round)\n",
    "\n"
   ]
  },
  {
   "cell_type": "code",
   "execution_count": null,
   "id": "f502a54e",
   "metadata": {},
   "outputs": [],
   "source": [
    "# Regularized linear regression (Ridge) — Question 4\n",
    "rs = [0, 0.01, 0.1, 1, 5, 10, 100]\n",
    "\n",
    "scores = {}\n",
    "for r in rs:\n",
    "    model_r = Ridge(alpha=r)\n",
    "    model_r.fit(X_train_zero, y_train)\n",
    "    y_pred_r = model_r.predict(X_val_zero)\n",
    "    rmse_r = float(np.sqrt(((y_val - y_pred_r) ** 2).mean()))\n",
    "    scores[r] = round(rmse_r, 4)\n",
    "\n",
    "print(\"RMSE (rounded) for each r:\", scores)\n",
    "\n",
    "# select best r (if ties, choose smallest r)\n",
    "best_rmse = min(scores.values())\n",
    "best_rs = [r for r, s in scores.items() if s == best_rmse]\n",
    "best_r = min(best_rs)\n",
    "print(\"Best r:\", best_r)"
   ]
  },
  {
   "cell_type": "markdown",
   "id": "2f7e6d89",
   "metadata": {},
   "source": [
    "\n",
    "\n",
    "### Question 4\n",
    "\n",
    "* Now let's train a regularized linear regression.\n",
    "* For this question, fill the NAs with 0. \n",
    "* Try different values of `r` from this list: `[0, 0.01, 0.1, 1, 5, 10, 100]`.\n",
    "* Use RMSE to evaluate the model on the validation dataset.\n",
    "* Round the RMSE scores to 2 decimal digits.\n",
    "* Which `r` gives the best RMSE?\n",
    "\n",
    "If multiple options give the same best RMSE, select the smallest `r`.\n",
    "\n",
    "Options:\n",
    "\n",
    "- 0\n",
    "- 0.01\n",
    "- 1\n",
    "- 10\n",
    "- 100\n",
    "\n"
   ]
  },
  {
   "cell_type": "code",
   "execution_count": null,
   "id": "7a696059",
   "metadata": {},
   "outputs": [],
   "source": []
  },
  {
   "cell_type": "code",
   "execution_count": null,
   "id": "b7b3221b",
   "metadata": {},
   "outputs": [],
   "source": []
  },
  {
   "cell_type": "markdown",
   "id": "d4ba32bd",
   "metadata": {},
   "source": [
    "\n",
    "### Question 5 \n",
    "\n",
    "* We used seed 42 for splitting the data. Let's find out how selecting the seed influences our score.\n",
    "* Try different seed values: `[0, 1, 2, 3, 4, 5, 6, 7, 8, 9]`.\n",
    "* For each seed, do the train/validation/test split with 60%/20%/20% distribution.\n",
    "* Fill the missing values with 0 and train a model without regularization.\n",
    "* For each seed, evaluate the model on the validation dataset and collect the RMSE scores. \n",
    "* What's the standard deviation of all the scores? To compute the standard deviation, use `np.std`.\n",
    "* Round the result to 3 decimal digits (`round(std, 3)`)\n",
    "\n",
    "What's the value of std?\n",
    "\n",
    "- 0.001\n",
    "- 0.006\n",
    "- 0.060\n",
    "- 0.600\n",
    "\n",
    "> Note: Standard deviation shows how different the values are.\n",
    "> If it's low, then all values are approximately the same.\n",
    "> If it's high, the values are different. \n",
    "> If standard deviation of scores is low, then our model is *stable*.\n",
    "\n"
   ]
  },
  {
   "cell_type": "code",
   "execution_count": null,
   "id": "fcf4c2c6",
   "metadata": {},
   "outputs": [],
   "source": []
  },
  {
   "cell_type": "markdown",
   "id": "bbda96bf",
   "metadata": {},
   "source": [
    "## Question 6\n",
    "\n",
    "* Split the dataset like previously, use seed 9.\n",
    "* Combine train and validation datasets.\n",
    "* Fill the missing values with 0 and train a model with `r=0.001`. \n",
    "* What's the RMSE on the test dataset?\n",
    "\n",
    "Options:\n",
    "\n",
    "- 0.15\n",
    "- 0.515\n",
    "- 5.15\n",
    "- 51.5\n",
    "\n",
    "## Submit the results\n",
    "\n",
    "* Submit your results here: https://courses.datatalks.club/ml-zoomcamp-2025/homework/hw02\n",
    "* If your answer doesn't match options exactly, select the closest one"
   ]
  },
  {
   "cell_type": "code",
   "execution_count": null,
   "id": "bb688498",
   "metadata": {},
   "outputs": [],
   "source": []
  },
  {
   "cell_type": "markdown",
   "id": "f0ce7ac0",
   "metadata": {},
   "source": []
  }
 ],
 "metadata": {
  "kernelspec": {
   "display_name": "ml-zoomcamp",
   "language": "python",
   "name": "python3"
  },
  "language_info": {
   "codemirror_mode": {
    "name": "ipython",
    "version": 3
   },
   "file_extension": ".py",
   "mimetype": "text/x-python",
   "name": "python",
   "nbconvert_exporter": "python",
   "pygments_lexer": "ipython3",
   "version": "3.11.13"
  }
 },
 "nbformat": 4,
 "nbformat_minor": 5
}
