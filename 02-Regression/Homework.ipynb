{
 "cells": [
  {
   "cell_type": "markdown",
   "id": "bc47f669",
   "metadata": {},
   "source": [
    "### Regression Homework by sameh shehata "
   ]
  },
  {
   "cell_type": "code",
   "execution_count": 65,
   "id": "2bec1f49",
   "metadata": {},
   "outputs": [],
   "source": [
    "import numpy as np\n",
    "import pandas as pd\n",
    "import matplotlib.pyplot as plt\n",
    "import seaborn as sns\n",
    "from sklearn.linear_model import LinearRegression, Ridge\n",
    "\n",
    "%matplotlib inline\n"
   ]
  },
  {
   "cell_type": "markdown",
   "id": "cbb80761",
   "metadata": {},
   "source": [
    "### Data Preparation"
   ]
  },
  {
   "cell_type": "markdown",
   "id": "50a5f414",
   "metadata": {},
   "source": [
    "### Question 3. \n"
   ]
  },
  {
   "cell_type": "code",
   "execution_count": 66,
   "id": "42db8218",
   "metadata": {},
   "outputs": [],
   "source": [
    "df = pd.read_csv('car_fuel_efficiency.csv')"
   ]
  },
  {
   "cell_type": "code",
   "execution_count": 67,
   "id": "dae5f0cf",
   "metadata": {},
   "outputs": [],
   "source": [
    "df.columns = df.columns.str.lower().str.replace(' ', '_')"
   ]
  },
  {
   "cell_type": "code",
   "execution_count": 68,
   "id": "b46c17eb",
   "metadata": {},
   "outputs": [
    {
     "data": {
      "text/html": [
       "<div>\n",
       "<style scoped>\n",
       "    .dataframe tbody tr th:only-of-type {\n",
       "        vertical-align: middle;\n",
       "    }\n",
       "\n",
       "    .dataframe tbody tr th {\n",
       "        vertical-align: top;\n",
       "    }\n",
       "\n",
       "    .dataframe thead th {\n",
       "        text-align: right;\n",
       "    }\n",
       "</style>\n",
       "<table border=\"1\" class=\"dataframe\">\n",
       "  <thead>\n",
       "    <tr style=\"text-align: right;\">\n",
       "      <th></th>\n",
       "      <th>engine_displacement</th>\n",
       "      <th>num_cylinders</th>\n",
       "      <th>horsepower</th>\n",
       "      <th>vehicle_weight</th>\n",
       "      <th>acceleration</th>\n",
       "      <th>model_year</th>\n",
       "      <th>origin</th>\n",
       "      <th>fuel_type</th>\n",
       "      <th>drivetrain</th>\n",
       "      <th>num_doors</th>\n",
       "      <th>fuel_efficiency_mpg</th>\n",
       "    </tr>\n",
       "  </thead>\n",
       "  <tbody>\n",
       "    <tr>\n",
       "      <th>0</th>\n",
       "      <td>170</td>\n",
       "      <td>3.0</td>\n",
       "      <td>159.0</td>\n",
       "      <td>3413.433759</td>\n",
       "      <td>17.7</td>\n",
       "      <td>2003</td>\n",
       "      <td>Europe</td>\n",
       "      <td>Gasoline</td>\n",
       "      <td>All-wheel drive</td>\n",
       "      <td>0.0</td>\n",
       "      <td>13.231729</td>\n",
       "    </tr>\n",
       "    <tr>\n",
       "      <th>1</th>\n",
       "      <td>130</td>\n",
       "      <td>5.0</td>\n",
       "      <td>97.0</td>\n",
       "      <td>3149.664934</td>\n",
       "      <td>17.8</td>\n",
       "      <td>2007</td>\n",
       "      <td>USA</td>\n",
       "      <td>Gasoline</td>\n",
       "      <td>Front-wheel drive</td>\n",
       "      <td>0.0</td>\n",
       "      <td>13.688217</td>\n",
       "    </tr>\n",
       "    <tr>\n",
       "      <th>2</th>\n",
       "      <td>170</td>\n",
       "      <td>NaN</td>\n",
       "      <td>78.0</td>\n",
       "      <td>3079.038997</td>\n",
       "      <td>15.1</td>\n",
       "      <td>2018</td>\n",
       "      <td>Europe</td>\n",
       "      <td>Gasoline</td>\n",
       "      <td>Front-wheel drive</td>\n",
       "      <td>0.0</td>\n",
       "      <td>14.246341</td>\n",
       "    </tr>\n",
       "    <tr>\n",
       "      <th>3</th>\n",
       "      <td>220</td>\n",
       "      <td>4.0</td>\n",
       "      <td>NaN</td>\n",
       "      <td>2542.392402</td>\n",
       "      <td>20.2</td>\n",
       "      <td>2009</td>\n",
       "      <td>USA</td>\n",
       "      <td>Diesel</td>\n",
       "      <td>All-wheel drive</td>\n",
       "      <td>2.0</td>\n",
       "      <td>16.912736</td>\n",
       "    </tr>\n",
       "    <tr>\n",
       "      <th>4</th>\n",
       "      <td>210</td>\n",
       "      <td>1.0</td>\n",
       "      <td>140.0</td>\n",
       "      <td>3460.870990</td>\n",
       "      <td>14.4</td>\n",
       "      <td>2009</td>\n",
       "      <td>Europe</td>\n",
       "      <td>Gasoline</td>\n",
       "      <td>All-wheel drive</td>\n",
       "      <td>2.0</td>\n",
       "      <td>12.488369</td>\n",
       "    </tr>\n",
       "  </tbody>\n",
       "</table>\n",
       "</div>"
      ],
      "text/plain": [
       "   engine_displacement  num_cylinders  horsepower  vehicle_weight  \\\n",
       "0                  170            3.0       159.0     3413.433759   \n",
       "1                  130            5.0        97.0     3149.664934   \n",
       "2                  170            NaN        78.0     3079.038997   \n",
       "3                  220            4.0         NaN     2542.392402   \n",
       "4                  210            1.0       140.0     3460.870990   \n",
       "\n",
       "   acceleration  model_year  origin fuel_type         drivetrain  num_doors  \\\n",
       "0          17.7        2003  Europe  Gasoline    All-wheel drive        0.0   \n",
       "1          17.8        2007     USA  Gasoline  Front-wheel drive        0.0   \n",
       "2          15.1        2018  Europe  Gasoline  Front-wheel drive        0.0   \n",
       "3          20.2        2009     USA    Diesel    All-wheel drive        2.0   \n",
       "4          14.4        2009  Europe  Gasoline    All-wheel drive        2.0   \n",
       "\n",
       "   fuel_efficiency_mpg  \n",
       "0            13.231729  \n",
       "1            13.688217  \n",
       "2            14.246341  \n",
       "3            16.912736  \n",
       "4            12.488369  "
      ]
     },
     "execution_count": 68,
     "metadata": {},
     "output_type": "execute_result"
    }
   ],
   "source": [
    "df.head()"
   ]
  },
  {
   "cell_type": "code",
   "execution_count": 69,
   "id": "3f2f1ab3",
   "metadata": {},
   "outputs": [
    {
     "data": {
      "text/plain": [
       "['origin', 'fuel_type', 'drivetrain']"
      ]
     },
     "execution_count": 69,
     "metadata": {},
     "output_type": "execute_result"
    }
   ],
   "source": [
    "strings = list(df.dtypes[df.dtypes == 'object'].index)\n",
    "strings"
   ]
  },
  {
   "cell_type": "code",
   "execution_count": 70,
   "id": "bd6c74f6",
   "metadata": {},
   "outputs": [],
   "source": [
    "for col in strings:\n",
    "    df[col] = df[col].str.lower().str.replace(' ', '_')"
   ]
  },
  {
   "cell_type": "code",
   "execution_count": 71,
   "id": "db9ff9cc",
   "metadata": {},
   "outputs": [
    {
     "data": {
      "text/plain": [
       "engine_displacement      int64\n",
       "num_cylinders          float64\n",
       "horsepower             float64\n",
       "vehicle_weight         float64\n",
       "acceleration           float64\n",
       "model_year               int64\n",
       "origin                  object\n",
       "fuel_type               object\n",
       "drivetrain              object\n",
       "num_doors              float64\n",
       "fuel_efficiency_mpg    float64\n",
       "dtype: object"
      ]
     },
     "execution_count": 71,
     "metadata": {},
     "output_type": "execute_result"
    }
   ],
   "source": [
    "df.dtypes"
   ]
  },
  {
   "cell_type": "markdown",
   "id": "a47ce5fc",
   "metadata": {},
   "source": [
    "### Question 1. Missing values\n",
    "\n"
   ]
  },
  {
   "cell_type": "code",
   "execution_count": 72,
   "id": "6380364d",
   "metadata": {},
   "outputs": [
    {
     "data": {
      "text/plain": [
       "engine_displacement      0\n",
       "num_cylinders          482\n",
       "horsepower             708\n",
       "vehicle_weight           0\n",
       "acceleration           930\n",
       "model_year               0\n",
       "origin                   0\n",
       "fuel_type                0\n",
       "drivetrain               0\n",
       "num_doors              502\n",
       "fuel_efficiency_mpg      0\n",
       "dtype: int64"
      ]
     },
     "execution_count": 72,
     "metadata": {},
     "output_type": "execute_result"
    }
   ],
   "source": [
    "df.isnull().sum()"
   ]
  },
  {
   "cell_type": "markdown",
   "id": "494593d9",
   "metadata": {},
   "source": [
    "### Question 2. Median for horse power\n"
   ]
  },
  {
   "cell_type": "code",
   "execution_count": 73,
   "id": "ae7a964d",
   "metadata": {},
   "outputs": [
    {
     "data": {
      "text/plain": [
       "149.0"
      ]
     },
     "execution_count": 73,
     "metadata": {},
     "output_type": "execute_result"
    }
   ],
   "source": [
    "df['horsepower'].median()"
   ]
  },
  {
   "cell_type": "markdown",
   "id": "134c6db2",
   "metadata": {},
   "source": [
    "### Question 3. \n"
   ]
  },
  {
   "cell_type": "code",
   "execution_count": 74,
   "id": "60d4caa1",
   "metadata": {},
   "outputs": [],
   "source": [
    "n = len(df)\n",
    "\n",
    "n_val = int(n * 0.2)\n",
    "n_test = int(n * 0.2)\n",
    "n_train = n - n_val - n_test"
   ]
  },
  {
   "cell_type": "code",
   "execution_count": 75,
   "id": "98d29767",
   "metadata": {},
   "outputs": [
    {
     "data": {
      "text/plain": [
       "9704"
      ]
     },
     "execution_count": 75,
     "metadata": {},
     "output_type": "execute_result"
    }
   ],
   "source": [
    "n"
   ]
  },
  {
   "cell_type": "code",
   "execution_count": 76,
   "id": "74705f3e",
   "metadata": {},
   "outputs": [
    {
     "data": {
      "text/plain": [
       "(1940, 1940, 5824)"
      ]
     },
     "execution_count": 76,
     "metadata": {},
     "output_type": "execute_result"
    }
   ],
   "source": [
    "n_val, n_test, n_train"
   ]
  },
  {
   "cell_type": "code",
   "execution_count": 77,
   "id": "3c92d680",
   "metadata": {},
   "outputs": [],
   "source": [
    "idx = np.arange(n)"
   ]
  },
  {
   "cell_type": "code",
   "execution_count": 78,
   "id": "daba8575",
   "metadata": {},
   "outputs": [],
   "source": [
    "np.random.seed(42)\n",
    "np.random.shuffle(idx)"
   ]
  },
  {
   "cell_type": "code",
   "execution_count": 79,
   "id": "91188bc0",
   "metadata": {},
   "outputs": [],
   "source": [
    "\n",
    "\n",
    "train_idx = idx[:n_train]\n",
    "val_idx = idx[n_train:n_train + n_val]\n",
    "test_idx = idx[n_train + n_val:]"
   ]
  },
  {
   "cell_type": "code",
   "execution_count": 80,
   "id": "9c5d296a",
   "metadata": {},
   "outputs": [],
   "source": [
    "X = df.drop(['fuel_efficiency_mpg',\"origin\",\"fuel_type\",\"drivetrain\"], axis=1)\n",
    "y = df.fuel_efficiency_mpg.values"
   ]
  },
  {
   "cell_type": "code",
   "execution_count": 81,
   "id": "193f8ba9",
   "metadata": {},
   "outputs": [
    {
     "name": "stdout",
     "output_type": "stream",
     "text": [
      "RMSE (fill 0): 0.51\n",
      "RMSE (fill mean): 0.39\n"
     ]
    }
   ],
   "source": [
    "X_train = X.iloc[train_idx].reset_index(drop=True)\n",
    "X_val = X.iloc[val_idx].reset_index(drop=True)\n",
    "X_test = X.iloc[test_idx].reset_index(drop=True)\n",
    "\n",
    "y_train = y[train_idx]\n",
    "y_val = y[val_idx]\n",
    "y_test = y[test_idx]\n",
    "\n",
    "# Option A: fill missing values with 0\n",
    "X_train_zero = X_train.fillna(0)\n",
    "X_val_zero = X_val.fillna(0)\n",
    "\n",
    "model_zero = LinearRegression()\n",
    "model_zero.fit(X_train_zero, y_train)\n",
    "y_pred_zero = model_zero.predict(X_val_zero)\n",
    "rmse_zero = float(np.sqrt(((y_val - y_pred_zero) ** 2).mean()))\n",
    "rmse_zero_round = round(rmse_zero, 2)\n",
    "\n",
    "# Option B: fill missing values with mean (computed from training set)\n",
    "train_mean = X_train.mean()\n",
    "X_train_mean = X_train.fillna(train_mean)\n",
    "X_val_mean = X_val.fillna(train_mean)\n",
    "\n",
    "model_mean = LinearRegression()\n",
    "model_mean.fit(X_train_mean, y_train)\n",
    "y_pred_mean = model_mean.predict(X_val_mean)\n",
    "rmse_mean = float(np.sqrt(((y_val - y_pred_mean) ** 2).mean()))\n",
    "rmse_mean_round = round(rmse_mean, 2)\n",
    "\n",
    "print(\"RMSE (fill 0):\", rmse_zero_round)\n",
    "print(\"RMSE (fill mean):\", rmse_mean_round)\n",
    "\n"
   ]
  },
  {
   "cell_type": "markdown",
   "id": "21333787",
   "metadata": {},
   "source": [
    "### Question 4\n"
   ]
  },
  {
   "cell_type": "code",
   "execution_count": 82,
   "id": "f502a54e",
   "metadata": {},
   "outputs": [
    {
     "name": "stdout",
     "output_type": "stream",
     "text": [
      "RMSE (rounded) for each r: {0: 0.5061, 0.01: 0.5061, 0.1: 0.5061, 1: 0.5061, 5: 0.5061, 10: 0.5061, 100: 0.5061}\n",
      "Best r: 0\n"
     ]
    }
   ],
   "source": [
    "# Regularized linear regression (Ridge) — Question 4\n",
    "rs = [0, 0.01, 0.1, 1, 5, 10, 100]\n",
    "\n",
    "scores = {}\n",
    "for r in rs:\n",
    "    model_r = Ridge(alpha=r)\n",
    "    model_r.fit(X_train_zero, y_train)\n",
    "    y_pred_r = model_r.predict(X_val_zero)\n",
    "    rmse_r = float(np.sqrt(((y_val - y_pred_r) ** 2).mean()))\n",
    "    scores[r] = round(rmse_r, 4)\n",
    "\n",
    "print(\"RMSE (rounded) for each r:\", scores)\n",
    "\n",
    "# select best r (if ties, choose smallest r)\n",
    "best_rmse = min(scores.values())\n",
    "best_rs = [r for r, s in scores.items() if s == best_rmse]\n",
    "best_r = min(best_rs)\n",
    "print(\"Best r:\", best_r)"
   ]
  },
  {
   "cell_type": "markdown",
   "id": "d4ba32bd",
   "metadata": {},
   "source": [
    "\n",
    "### Question 5 "
   ]
  },
  {
   "cell_type": "code",
   "execution_count": 83,
   "id": "fcf4c2c6",
   "metadata": {},
   "outputs": [
    {
     "name": "stdout",
     "output_type": "stream",
     "text": [
      "Seed: 0, RMSE: 0.5089438738515523\n",
      "Seed: 1, RMSE: 0.5096433180914997\n",
      "Seed: 2, RMSE: 0.5112824494606966\n",
      "Seed: 3, RMSE: 0.506415096642651\n",
      "Seed: 4, RMSE: 0.4980329555349279\n",
      "Seed: 5, RMSE: 0.5153771300332379\n",
      "Seed: 6, RMSE: 0.5191886267022854\n",
      "Seed: 7, RMSE: 0.49584545408132663\n",
      "Seed: 8, RMSE: 0.5015121580081838\n",
      "Seed: 9, RMSE: 0.4997357052983891\n",
      "\n",
      "Standard Deviation of RMSE scores: 0.007\n"
     ]
    }
   ],
   "source": [
    "\n",
    "seeds = [0, 1, 2, 3, 4, 5, 6, 7, 8, 9]\n",
    "\n",
    "rmse_scores = []\n",
    "\n",
    "X = df.drop(['fuel_efficiency_mpg', \"origin\", \"fuel_type\", \"drivetrain\"], axis=1)\n",
    "y = df.fuel_efficiency_mpg.values\n",
    "\n",
    "n = len(df)\n",
    "n_val = int(n * 0.2)\n",
    "n_test = int(n * 0.2)\n",
    "n_train = n - n_val - n_test\n",
    "\n",
    "for seed in seeds:\n",
    "    np.random.seed(seed)\n",
    "    idx = np.arange(n)\n",
    "    np.random.shuffle(idx)\n",
    "\n",
    "    train_idx = idx[:n_train]\n",
    "    val_idx = idx[n_train:n_train + n_val]\n",
    " \n",
    "    # Create the training and validation sets for this specific seed\n",
    "    X_train = X.iloc[train_idx].reset_index(drop=True)\n",
    "    X_val = X.iloc[val_idx].reset_index(drop=True)\n",
    "    \n",
    "    y_train = y[train_idx]\n",
    "    y_val = y[val_idx]\n",
    "    \n",
    "    # Fill missing values with 0\n",
    "    X_train_filled = X_train.fillna(0)\n",
    "    X_val_filled = X_val.fillna(0)\n",
    "\n",
    "    # Initialize and train the linear regression model\n",
    "    model = LinearRegression()\n",
    "    model.fit(X_train_filled, y_train)\n",
    "    \n",
    "    # Make predictions on the validation set\n",
    "    y_pred = model.predict(X_val_filled)\n",
    "    \n",
    "    # Calculate the RMSE and append it to our list of scores\n",
    "    rmse = np.sqrt(((y_val - y_pred) ** 2).mean())\n",
    "    rmse_scores.append(rmse)\n",
    "\n",
    "# Print the RMSE for each seed to see the variation\n",
    "for seed, score in zip(seeds, rmse_scores):\n",
    "    print(f\"Seed: {seed}, RMSE: {score}\")\n",
    "\n",
    "# Calculate the standard deviation of all collected RMSE scores\n",
    "std_dev = np.std(rmse_scores)\n",
    "\n",
    "# Round the result to 3 decimal places as requested\n",
    "rounded_std_dev = round(std_dev, 3)\n",
    "\n",
    "print(f\"\\nStandard Deviation of RMSE scores: {rounded_std_dev}\")"
   ]
  },
  {
   "cell_type": "markdown",
   "id": "bbda96bf",
   "metadata": {},
   "source": [
    "## Question 6\n"
   ]
  },
  {
   "cell_type": "code",
   "execution_count": null,
   "id": "bb688498",
   "metadata": {},
   "outputs": [
    {
     "name": "stdout",
     "output_type": "stream",
     "text": [
      "The RMSE on the test dataset is: 0.5017368518055851\n",
      "Rounded RMSE on the test dataset: 0.502\n"
     ]
    }
   ],
   "source": [
    "from sklearn.linear_model import Ridge\n",
    "import numpy as np\n",
    "import pandas as pd\n",
    "\n",
    "\n",
    "X = df.drop(['fuel_efficiency_mpg', \"origin\", \"fuel_type\", \"drivetrain\"], axis=1)\n",
    "y = df.fuel_efficiency_mpg.values\n",
    "\n",
    "seed = 9\n",
    "np.random.seed(seed)\n",
    "\n",
    "n = len(df)\n",
    "n_val = int(n * 0.2)\n",
    "n_test = int(n * 0.2)\n",
    "n_train = n - n_val - n_test\n",
    "\n",
    "idx = np.arange(n)\n",
    "np.random.shuffle(idx)\n",
    "\n",
    "train_idx = idx[:n_train]\n",
    "val_idx = idx[n_train:n_train + n_val]\n",
    "test_idx = idx[n_train + n_val:]\n",
    "\n",
    "\n",
    "full_train_idx = np.concatenate([train_idx, val_idx])\n",
    "\n",
    "X_full_train = X.iloc[full_train_idx].reset_index(drop=True)\n",
    "y_full_train = y[full_train_idx]\n",
    "\n",
    "X_test = X.iloc[test_idx].reset_index(drop=True)\n",
    "y_test = y[test_idx]\n",
    "\n",
    "X_full_train_filled = X_full_train.fillna(0)\n",
    "X_test_filled = X_test.fillna(0)\n",
    "\n",
    "r = 0.001\n",
    "model = Ridge(alpha=r, random_state=seed) # Using the same seed for the model for full reproducibility\n",
    "model.fit(X_full_train_filled, y_full_train)\n",
    "\n",
    "y_pred = model.predict(X_test_filled)\n",
    "\n",
    "rmse = np.sqrt(((y_test - y_pred) ** 2).mean())\n",
    "\n",
    "print(f\"The RMSE on the test dataset is: {rmse}\")\n",
    "\n",
    "print(f\"Rounded RMSE on the test dataset: {round(rmse, 3)}\")"
   ]
  }
 ],
 "metadata": {
  "kernelspec": {
   "display_name": "ml-zoomcamp",
   "language": "python",
   "name": "python3"
  },
  "language_info": {
   "codemirror_mode": {
    "name": "ipython",
    "version": 3
   },
   "file_extension": ".py",
   "mimetype": "text/x-python",
   "name": "python",
   "nbconvert_exporter": "python",
   "pygments_lexer": "ipython3",
   "version": "3.11.13"
  }
 },
 "nbformat": 4,
 "nbformat_minor": 5
}
